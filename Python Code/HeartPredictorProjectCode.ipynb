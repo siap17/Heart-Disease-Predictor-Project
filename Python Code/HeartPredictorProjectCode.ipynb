{
  "cells": [
    {
      "cell_type": "code",
      "execution_count": null,
      "metadata": {
        "id": "a1kW7tIOTCyV"
      },
      "outputs": [],
      "source": [
        "import numpy as np\n",
        "import pandas as pd\n",
        "from sklearn.model_selection import train_test_split\n",
        "from sklearn.linear_model import LogisticRegression\n",
        "from sklearn.metrics import accuracy_score\n",
        "\n",
        "from sklearn.preprocessing import LabelEncoder\n",
        "from sklearn.impute import SimpleImputer"
      ]
    },
    {
      "cell_type": "code",
      "execution_count": null,
      "metadata": {
        "id": "pMW_WegSTOFp"
      },
      "outputs": [],
      "source": [
        "#loading the csv data to a Pandas DataFrame\n",
        "heartdata = pd.read_csv('heart_disease_uci.csv')\n",
        "print(heartdata)"
      ]
    },
    {
      "cell_type": "code",
      "execution_count": null,
      "metadata": {
        "id": "Ze6wuppkTQC5"
      },
      "outputs": [],
      "source": [
        "#print first 5 rows of the dataset\n",
        "heartdata.head()\n",
        "heartdata.tail()\n",
        "\n",
        "#number of rows and columns in the dataset\n",
        "heartdata.shape\n",
        "\n",
        "#getting some info about the data\n",
        "heartdata.info()"
      ]
    },
    {
      "cell_type": "code",
      "execution_count": null,
      "metadata": {
        "id": "ZAn5A6XPTSvM"
      },
      "outputs": [],
      "source": [
        "#checking for missing values\n",
        "heartdata.isnull().sum()"
      ]
    },
    {
      "cell_type": "code",
      "execution_count": null,
      "metadata": {
        "id": "ErhAgyfSTUm5"
      },
      "outputs": [],
      "source": [
        "#statistical measures about the data\n",
        "heartdata.describe()"
      ]
    },
    {
      "cell_type": "code",
      "execution_count": null,
      "metadata": {
        "id": "xE0qZGKOTaFy"
      },
      "outputs": [],
      "source": [
        "#target [0=no heart disease; 1,2,3,4 = stages of heart disease]\n",
        "heartdata['heart_disease_binary'] = heartdata['num'].apply(lambda x: 1 if x > 0 else 0)\n",
        "heartdata['heart_disease_binary'].value_counts()"
      ]
    },
    {
      "cell_type": "code",
      "execution_count": null,
      "metadata": {
        "id": "avWif1hyTdLl"
      },
      "outputs": [],
      "source": [
        "#Splitting the Data into Training and Test Data\n",
        "x = heartdata.drop(columns=['num','heart_disease_binary'],axis =1)\n",
        "y = heartdata['heart_disease_binary']\n",
        "print(x)\n",
        "print(y)"
      ]
    },
    {
      "cell_type": "code",
      "execution_count": null,
      "metadata": {
        "id": "igcUZOTJTl1r"
      },
      "outputs": [],
      "source": [
        "#test_size is the percentage of data being used as test data, only 20% used as test and rest of 80% used as training set\n",
        "x_train, x_test, y_train, y_test = train_test_split(x,y,test_size=0.2, stratify=y,random_state=2)"
      ]
    },
    {
      "cell_type": "code",
      "execution_count": null,
      "metadata": {
        "id": "ulVqJISUTmdD"
      },
      "outputs": [],
      "source": [
        "print(x.shape, x_train.shape, x_test.shape)"
      ]
    },
    {
      "cell_type": "code",
      "execution_count": null,
      "metadata": {
        "id": "BFiXig5rTouv"
      },
      "outputs": [],
      "source": [
        "#Model Training\n",
        "\n",
        "#Logistic Regression\n",
        "\n",
        "encoder = LabelEncoder()\n",
        "#Iterate through columns and transform object type columns\n",
        "for col in x_train.columns:\n",
        "    if x_train[col].dtype == 'object':\n",
        "        #Replacing NaN values with a placeholder, for example \"unknown\"\n",
        "        x_train[col] = x_train[col].fillna('unknown')\n",
        "        x_test[col] = x_test[col].fillna('unknown')\n",
        "\n",
        "        #Combine unique values from both train and test sets before fitting\n",
        "        all_values = pd.concat([x_train[col], x_test[col]]).unique()\n",
        "\n",
        "        #Conver boolean values to strings before fitting LabelEncoder\n",
        "        all_values = [str(value) for value in all_values]\n",
        "        encoder.fit(all_values)\n",
        "\n",
        "        #Transform the column in both training and testing data using the encoder\n",
        "        x_train[col] = encoder.transform(x_train[col].astype(str))\n",
        "        x_test[col] = encoder.transform(x_test[col].astype(str))\n",
        "\n",
        "#Impute missing numerical values using SimpleImputer\n",
        "imputer = SimpleImputer(strategy='mean') # or 'median', 'most_frequent'\n",
        "\n",
        "#Apply the imputer to numerical features in both training and testing data\n",
        "x_train = imputer.fit_transform(x_train)\n",
        "x_test = imputer.transform(x_test)"
      ]
    },
    {
      "cell_type": "code",
      "execution_count": null,
      "metadata": {
        "id": "SCZl_1CpTtmO"
      },
      "outputs": [],
      "source": [
        "#train the Logistic Regression model with Training data\n",
        "model = LogisticRegression()\n",
        "model.fit(x_train, y_train)"
      ]
    },
    {
      "cell_type": "code",
      "execution_count": null,
      "metadata": {
        "id": "xD3MISDkTvPc"
      },
      "outputs": [],
      "source": [
        "LogisticRegression()"
      ]
    },
    {
      "cell_type": "code",
      "execution_count": null,
      "metadata": {
        "id": "15Jslg33TykV"
      },
      "outputs": [],
      "source": [
        "#Model Evaluation\n",
        "\n",
        "#Accuracy Score"
      ]
    },
    {
      "cell_type": "code",
      "execution_count": null,
      "metadata": {
        "id": "eL3618JLT1li"
      },
      "outputs": [],
      "source": [
        "#accuracy on training data\n",
        "x_train_prediction = model.predict(x_train)\n",
        "training_data_accuracy = accuracy_score(x_train_prediction, y_train)"
      ]
    },
    {
      "cell_type": "code",
      "execution_count": null,
      "metadata": {
        "id": "DjK1Tqg-T3eQ"
      },
      "outputs": [],
      "source": [
        "print(\"Accuracy on training data:\", training_data_accuracy)"
      ]
    },
    {
      "cell_type": "code",
      "execution_count": null,
      "metadata": {
        "id": "NMmAyWbrT8lX"
      },
      "outputs": [],
      "source": [
        "#accuracy on test data\n",
        "x_test_prediction = model.predict(x_test)\n",
        "test_data_accuracy = accuracy_score(x_test_prediction, y_test)"
      ]
    }
  ],
  "metadata": {
    "colab": {
      "provenance": []
    },
    "kernelspec": {
      "display_name": "Python 3",
      "name": "python3"
    },
    "language_info": {
      "name": "python"
    }
  },
  "nbformat": 4,
  "nbformat_minor": 0
}
